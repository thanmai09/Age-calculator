{
  "nbformat": 4,
  "nbformat_minor": 0,
  "metadata": {
    "colab": {
      "provenance": [],
      "authorship_tag": "ABX9TyN2SKymQM9utfMqV5ErQlQl",
      "include_colab_link": true
    },
    "kernelspec": {
      "name": "python3",
      "display_name": "Python 3"
    },
    "language_info": {
      "name": "python"
    }
  },
  "cells": [
    {
      "cell_type": "markdown",
      "metadata": {
        "id": "view-in-github",
        "colab_type": "text"
      },
      "source": [
        "<a href=\"https://colab.research.google.com/github/thanmai09/Age-calculator/blob/main/gfgday18.ipynb\" target=\"_parent\"><img src=\"https://colab.research.google.com/assets/colab-badge.svg\" alt=\"Open In Colab\"/></a>"
      ]
    },
    {
      "cell_type": "markdown",
      "source": [
        "# ** Search Pattern (KMP Algorithm)**\n",
        "# Problem Description\n",
        "You are given two strings:\n",
        "\n",
        "txt: The text string in which the pattern is to be searched.\n",
        "pat: The pattern string to search for.\n",
        "The task is to print all indices in txt where pat starts, using 0-based indexing. Return an empty list if no occurrences are found.\n",
        "\n",
        "# Examples:\n",
        "\n",
        "Input:\n",
        "txt = \"abcab\", pat = \"ab\"\n",
        "\n",
        "Output:\n",
        "[0, 3]\n",
        "\n",
        "Explanation:\n",
        "\n",
        "The pattern ab appears at indices 0 and 3 in the text string.\n",
        "\n",
        "Input:\n",
        "txt = \"aaaaa\", pat = \"aa\"\n",
        "Output:\n",
        "[0, 1, 2, 3]\n",
        "\n",
        "Input:\n",
        "txt = \"hello\", pat = \"world\"\n",
        "Output:\n",
        "[]\n",
        "\n",
        "\n",
        "# My Approach\n",
        "The Knuth-Morris-Pratt (KMP) algorithm is an efficient pattern matching algorithm that avoids unnecessary comparisons, making it well-suited for this task.\n",
        "\n",
        "- Compute the Longest Prefix Suffix (LPS) Array:\n",
        "\n",
        "Preprocess the pattern string pat to build the LPS array.\n",
        "The LPS array stores the length of the longest prefix which is also a suffix for substrings of pat.\n",
        "This preprocessing helps in skipping characters during comparisons.\n",
        "Search Using the LPS Array:\n",
        "\n",
        "Traverse the txt and use the pat LPS array to efficiently find matches.\n",
        "If a mismatch occurs, use the LPS array to skip unnecessary comparisons.\n",
        "Output the Indices:\n",
        "\n",
        "Store the starting indices of matches found in txt."
      ],
      "metadata": {
        "id": "Lir5mKhCNo6t"
      }
    },
    {
      "cell_type": "code",
      "execution_count": 1,
      "metadata": {
        "colab": {
          "base_uri": "https://localhost:8080/"
        },
        "id": "OeapWwBdNnlT",
        "outputId": "ac4933e4-8aed-4af4-9ac3-8ae74d349363"
      },
      "outputs": [
        {
          "output_type": "stream",
          "name": "stdout",
          "text": [
            "Pattern found at indices: [10]\n"
          ]
        }
      ],
      "source": [
        "class Solution:\n",
        "    def computeLPSArray(self, pat, m, lps):\n",
        "        length = 0  # length of the previous longest prefix suffix\n",
        "        i = 1\n",
        "        while i < m:\n",
        "            if pat[i] == pat[length]:\n",
        "                length += 1\n",
        "                lps[i] = length\n",
        "                i += 1\n",
        "            else:\n",
        "                if length != 0:\n",
        "                    length = lps[length - 1]\n",
        "                else:\n",
        "                    lps[i] = 0\n",
        "                    i += 1\n",
        "\n",
        "    def search(self, pat, txt):\n",
        "        result = []\n",
        "        m = len(pat)\n",
        "        n = len(txt)\n",
        "        lps = [0] * m\n",
        "\n",
        "        self.computeLPSArray(pat, m, lps)\n",
        "\n",
        "        i = 0  # index for txt\n",
        "        j = 0  # index for pat\n",
        "        while i < n:\n",
        "            if txt[i] == pat[j]:\n",
        "                i += 1\n",
        "                j += 1\n",
        "\n",
        "            if j == m:\n",
        "                result.append(i - j)  # Pattern found at index (i - j)\n",
        "                j = lps[j - 1]\n",
        "            elif i < n and txt[i] != pat[j]:\n",
        "                if j != 0:\n",
        "                    j = lps[j - 1]\n",
        "                else:\n",
        "                    i += 1\n",
        "        return result\n",
        "\n",
        "# Driver code\n",
        "if __name__ == \"__main__\":\n",
        "    # Create an instance of the Solution class\n",
        "    solution = Solution()\n",
        "\n",
        "    # Define the text and the pattern\n",
        "    text = \"ABABDABACDABABCABAB\"\n",
        "    pattern = \"ABABCABAB\"\n",
        "\n",
        "    # Call the search method\n",
        "    result = solution.search(pattern, text)\n",
        "\n",
        "    # Print the result\n",
        "    print(\"Pattern found at indices:\", result)"
      ]
    }
  ]
}